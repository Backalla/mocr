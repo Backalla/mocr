{
 "cells": [
  {
   "cell_type": "code",
   "execution_count": 1,
   "metadata": {
    "collapsed": true
   },
   "outputs": [],
   "source": [
    "from loadData import *\n",
    "import pickle"
   ]
  },
  {
   "cell_type": "code",
   "execution_count": 2,
   "metadata": {
    "collapsed": true
   },
   "outputs": [],
   "source": [
    "load_obj = loadData()"
   ]
  },
  {
   "cell_type": "code",
   "execution_count": 3,
   "metadata": {
    "collapsed": true
   },
   "outputs": [],
   "source": [
    "file_xml_path = \"data/xml/xml/\"\n",
    "file_location = \"data/words/words/\"\n",
    "no_of_train = 80000\n",
    "no_of_val = 15000\n",
    "data_dict,vocab,image_files_list = load_obj.loadData_word(file_location,file_xml_path)"
   ]
  },
  {
   "cell_type": "code",
   "execution_count": 5,
   "metadata": {},
   "outputs": [
    {
     "name": "stdout",
     "output_type": "stream",
     "text": [
      "115320 79 115320\n"
     ]
    }
   ],
   "source": [
    "print len(data_dict),len(vocab),len(image_files_list)"
   ]
  },
  {
   "cell_type": "code",
   "execution_count": 7,
   "metadata": {},
   "outputs": [
    {
     "name": "stdout",
     "output_type": "stream",
     "text": [
      "[('data/words/words/n04/n04-190/n04-190-03-00.png', 'fitting'), ('data/words/words/e07/e07-094/e07-094-05-04.png', 'same'), ('data/words/words/r02/r02-127/r02-127-02-00.png', 'who'), ('data/words/words/a04/a04-085/a04-085-01-05.png', 'a'), ('data/words/words/k07/k07-176/k07-176-10-01.png', 'the'), ('data/words/words/j06/j06-014/j06-014-08-01.png', ','), ('data/words/words/c03/c03-016e/c03-016e-05-03.png', 'when'), ('data/words/words/a01/a01-003/a01-003-04-01.png', 'the'), ('data/words/words/a05/a05-053/a05-053-05-05.png', 'a'), ('data/words/words/j06/j06-022/j06-022-07-02.png', 'showing')]\n"
     ]
    }
   ],
   "source": [
    "print [(key,data_dict[key]) for key in data_dict.keys()[:10]]"
   ]
  },
  {
   "cell_type": "code",
   "execution_count": 8,
   "metadata": {},
   "outputs": [
    {
     "name": "stdout",
     "output_type": "stream",
     "text": [
      "set(['!', ' ', '#', '\"', \"'\", '&', ')', '(', '+', '*', '-', ',', '/', '.', '1', '0', '3', '2', '5', '4', '7', '6', '9', '8', ';', ':', '?', 'A', 'C', 'B', 'E', 'D', 'G', 'F', 'I', 'H', 'K', 'J', 'M', 'L', 'O', 'N', 'Q', 'P', 'S', 'R', 'U', 'T', 'W', 'V', 'Y', 'X', 'Z', 'a', 'c', 'b', 'e', 'd', 'g', 'f', 'i', 'h', 'k', 'j', 'm', 'l', 'o', 'n', 'q', 'p', 's', 'r', 'u', 't', 'w', 'v', 'y', 'x', 'z'])\n"
     ]
    }
   ],
   "source": [
    "print vocab"
   ]
  },
  {
   "cell_type": "code",
   "execution_count": 9,
   "metadata": {},
   "outputs": [
    {
     "name": "stdout",
     "output_type": "stream",
     "text": [
      "['data/words/words/g03/g03-052/g03-052-00-00.png', 'data/words/words/g03/g03-052/g03-052-00-01.png', 'data/words/words/g03/g03-052/g03-052-00-02.png', 'data/words/words/g03/g03-052/g03-052-00-03.png', 'data/words/words/g03/g03-052/g03-052-00-04.png', 'data/words/words/g03/g03-052/g03-052-00-05.png', 'data/words/words/g03/g03-052/g03-052-01-00.png', 'data/words/words/g03/g03-052/g03-052-01-01.png', 'data/words/words/g03/g03-052/g03-052-01-02.png', 'data/words/words/g03/g03-052/g03-052-01-03.png']\n"
     ]
    }
   ],
   "source": [
    "print image_files_list[:10]"
   ]
  },
  {
   "cell_type": "code",
   "execution_count": 10,
   "metadata": {
    "collapsed": true
   },
   "outputs": [],
   "source": [
    "pickle.dump(data_dict,open(\"data_dict\",\"wb\"))"
   ]
  },
  {
   "cell_type": "code",
   "execution_count": 11,
   "metadata": {
    "collapsed": true
   },
   "outputs": [],
   "source": [
    "pickle.dump(vocab,open(\"vocab\",\"wb\"))"
   ]
  },
  {
   "cell_type": "code",
   "execution_count": 12,
   "metadata": {
    "collapsed": true
   },
   "outputs": [],
   "source": [
    "pickle.dump(image_files_list,open(\"image_files_list\",\"wb\"))"
   ]
  },
  {
   "cell_type": "code",
   "execution_count": null,
   "metadata": {
    "collapsed": true
   },
   "outputs": [],
   "source": []
  }
 ],
 "metadata": {
  "kernelspec": {
   "display_name": "Python 2",
   "language": "python",
   "name": "python2"
  },
  "language_info": {
   "codemirror_mode": {
    "name": "ipython",
    "version": 2
   },
   "file_extension": ".py",
   "mimetype": "text/x-python",
   "name": "python",
   "nbconvert_exporter": "python",
   "pygments_lexer": "ipython2",
   "version": "2.7.12"
  }
 },
 "nbformat": 4,
 "nbformat_minor": 2
}
