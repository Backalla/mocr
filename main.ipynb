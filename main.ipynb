{
 "cells": [
  {
   "cell_type": "code",
   "execution_count": 4,
   "metadata": {},
   "outputs": [],
   "source": [
    "from utils.loadData import *\n",
    "import pickle"
   ]
  },
  {
   "cell_type": "code",
   "execution_count": 5,
   "metadata": {},
   "outputs": [],
   "source": [
    "load_obj = loadData()"
   ]
  },
  {
   "cell_type": "code",
   "execution_count": 6,
   "metadata": {
    "collapsed": true
   },
   "outputs": [],
   "source": [
    "file_xml_path = \"data/xml/xml/\"\n",
    "file_location = \"data/words/processed_words/\"\n",
    "no_of_train = 80000\n",
    "no_of_val = 15000\n",
    "data_dict,vocab,image_files_list = load_obj.loadData_word(file_location,file_xml_path)"
   ]
  },
  {
   "cell_type": "code",
   "execution_count": 7,
   "metadata": {},
   "outputs": [
    {
     "name": "stdout",
     "output_type": "stream",
     "text": [
      "115320 79 115320\n"
     ]
    }
   ],
   "source": [
    "print len(data_dict),len(vocab),len(image_files_list)"
   ]
  },
  {
   "cell_type": "code",
   "execution_count": 8,
   "metadata": {},
   "outputs": [
    {
     "name": "stdout",
     "output_type": "stream",
     "text": [
      "[('data/words/processed_words/l07/l07-135/l07-135-08-03.png', 'in'), ('data/words/processed_words/h04/h04-052/h04-052-02-08.png', 'the'), ('data/words/processed_words/p03/p03-185/p03-185-03-03.png', 'free'), ('data/words/processed_words/b01/b01-084/b01-084-00-03.png', 'first'), ('data/words/processed_words/g04/g04-043/g04-043-07-03.png', 'made'), ('data/words/processed_words/a03/a03-089/a03-089-00-00.png', 'This'), ('data/words/processed_words/g06/g06-050e/g06-050e-06-02.png', 'he'), ('data/words/processed_words/j01/j01-042/j01-042-01-07.png', 'start'), ('data/words/processed_words/h04/h04-082/h04-082-11-07.png', 'and'), ('data/words/processed_words/h07/h07-066b/h07-066b-00-01.png', 'offices')]\n"
     ]
    }
   ],
   "source": [
    "print [(key,data_dict[key]) for key in data_dict.keys()[:10]]"
   ]
  },
  {
   "cell_type": "code",
   "execution_count": 9,
   "metadata": {},
   "outputs": [
    {
     "name": "stdout",
     "output_type": "stream",
     "text": [
      "set(['!', ' ', '#', '\"', \"'\", '&', ')', '(', '+', '*', '-', ',', '/', '.', '1', '0', '3', '2', '5', '4', '7', '6', '9', '8', ';', ':', '?', 'A', 'C', 'B', 'E', 'D', 'G', 'F', 'I', 'H', 'K', 'J', 'M', 'L', 'O', 'N', 'Q', 'P', 'S', 'R', 'U', 'T', 'W', 'V', 'Y', 'X', 'Z', 'a', 'c', 'b', 'e', 'd', 'g', 'f', 'i', 'h', 'k', 'j', 'm', 'l', 'o', 'n', 'q', 'p', 's', 'r', 'u', 't', 'w', 'v', 'y', 'x', 'z'])\n"
     ]
    }
   ],
   "source": [
    "print vocab"
   ]
  },
  {
   "cell_type": "code",
   "execution_count": 10,
   "metadata": {},
   "outputs": [
    {
     "name": "stdout",
     "output_type": "stream",
     "text": [
      "['data/words/processed_words/g03/g03-052/g03-052-00-00.png', 'data/words/processed_words/g03/g03-052/g03-052-00-01.png', 'data/words/processed_words/g03/g03-052/g03-052-00-02.png', 'data/words/processed_words/g03/g03-052/g03-052-00-03.png', 'data/words/processed_words/g03/g03-052/g03-052-00-04.png', 'data/words/processed_words/g03/g03-052/g03-052-00-05.png', 'data/words/processed_words/g03/g03-052/g03-052-01-00.png', 'data/words/processed_words/g03/g03-052/g03-052-01-01.png', 'data/words/processed_words/g03/g03-052/g03-052-01-02.png', 'data/words/processed_words/g03/g03-052/g03-052-01-03.png']\n"
     ]
    }
   ],
   "source": [
    "print image_files_list[:10]"
   ]
  },
  {
   "cell_type": "code",
   "execution_count": 11,
   "metadata": {
    "collapsed": true
   },
   "outputs": [],
   "source": [
    "pickle.dump(data_dict,open(\"data_dict\",\"wb\"))"
   ]
  },
  {
   "cell_type": "code",
   "execution_count": 12,
   "metadata": {
    "collapsed": true
   },
   "outputs": [],
   "source": [
    "pickle.dump(vocab,open(\"vocab\",\"wb\"))"
   ]
  },
  {
   "cell_type": "code",
   "execution_count": 13,
   "metadata": {
    "collapsed": true
   },
   "outputs": [],
   "source": [
    "pickle.dump(image_files_list,open(\"image_files_list\",\"wb\"))"
   ]
  },
  {
   "cell_type": "code",
   "execution_count": null,
   "metadata": {
    "collapsed": true
   },
   "outputs": [],
   "source": []
  }
 ],
 "metadata": {
  "kernelspec": {
   "display_name": "Python 2",
   "language": "python",
   "name": "python2"
  },
  "language_info": {
   "codemirror_mode": {
    "name": "ipython",
    "version": 2
   },
   "file_extension": ".py",
   "mimetype": "text/x-python",
   "name": "python",
   "nbconvert_exporter": "python",
   "pygments_lexer": "ipython2",
   "version": "2.7.12"
  }
 },
 "nbformat": 4,
 "nbformat_minor": 2
}
