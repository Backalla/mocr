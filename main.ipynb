{
 "cells": [
  {
   "cell_type": "code",
   "execution_count": 1,
   "metadata": {
    "collapsed": true
   },
   "outputs": [],
   "source": [
    "from utils.loadData import *\n",
    "import pickle"
   ]
  },
  {
   "cell_type": "code",
   "execution_count": 2,
   "metadata": {
    "collapsed": true
   },
   "outputs": [],
   "source": [
    "load_obj = loadData()"
   ]
  },
  {
   "cell_type": "code",
   "execution_count": 3,
   "metadata": {
    "collapsed": true
   },
   "outputs": [],
   "source": [
    "file_xml_path = \"data/xml/xml/\"\n",
    "file_location = \"data/lines/lines/\"\n",
    "no_of_train = 80000\n",
    "no_of_val = 15000\n",
    "data_dict,vocab,image_files_list = load_obj.load(file_location,file_xml_path)"
   ]
  },
  {
   "cell_type": "code",
   "execution_count": 4,
   "metadata": {},
   "outputs": [
    {
     "name": "stdout",
     "output_type": "stream",
     "text": [
      "13353 79 13353\n"
     ]
    }
   ],
   "source": [
    "print len(data_dict),len(vocab),len(image_files_list)"
   ]
  },
  {
   "cell_type": "code",
   "execution_count": 5,
   "metadata": {},
   "outputs": [
    {
     "name": "stdout",
     "output_type": "stream",
     "text": [
      "[('data/lines/lines/g04/g04-060/g04-060-02.png', 'church for the full rota of services on Sundays and weekdays . '), ('data/lines/lines/k03/k03-117/k03-117-08.png', 'her away impatiently . '), ('data/lines/lines/h02/h02-012/h02-012-07.png', 'substances . The Poisons Board had already '), ('data/lines/lines/g06/g06-018l/g06-018l-06.png', 'thought of a fire ... . '), ('data/lines/lines/p02/p02-131/p02-131-04.png', 'I \\'d marry you myself . \" Gay laughed , Doc was '), ('data/lines/lines/d04/d04-032/d04-032-03.png', 'come across human Shamirs and they leave '), ('data/lines/lines/b04/b04-116/b04-116-01.png', 'of change , so the Africans stepped up their demands . '), ('data/lines/lines/a03/a03-063/a03-063-05.png', 'sceptical about British plans for organizing it . '), ('data/lines/lines/h07/h07-063a/h07-063a-00.png', 'More modest premises are provided on the upper floors over '), ('data/lines/lines/c03/c03-084b/c03-084b-04.png', 'Week \" series on independent television , Then ')]\n"
     ]
    }
   ],
   "source": [
    "print [(key,data_dict[key]) for key in data_dict.keys()[:10]]"
   ]
  },
  {
   "cell_type": "code",
   "execution_count": 6,
   "metadata": {},
   "outputs": [
    {
     "name": "stdout",
     "output_type": "stream",
     "text": [
      "set(['!', ' ', '#', '\"', \"'\", '&', ')', '(', '+', '*', '-', ',', '/', '.', '1', '0', '3', '2', '5', '4', '7', '6', '9', '8', ';', ':', '?', 'A', 'C', 'B', 'E', 'D', 'G', 'F', 'I', 'H', 'K', 'J', 'M', 'L', 'O', 'N', 'Q', 'P', 'S', 'R', 'U', 'T', 'W', 'V', 'Y', 'X', 'Z', 'a', 'c', 'b', 'e', 'd', 'g', 'f', 'i', 'h', 'k', 'j', 'm', 'l', 'o', 'n', 'q', 'p', 's', 'r', 'u', 't', 'w', 'v', 'y', 'x', 'z'])\n"
     ]
    }
   ],
   "source": [
    "print vocab"
   ]
  },
  {
   "cell_type": "code",
   "execution_count": 7,
   "metadata": {},
   "outputs": [
    {
     "name": "stdout",
     "output_type": "stream",
     "text": [
      "['data/lines/lines/g03/g03-052/g03-052-00.png', 'data/lines/lines/g03/g03-052/g03-052-01.png', 'data/lines/lines/g03/g03-052/g03-052-02.png', 'data/lines/lines/g03/g03-052/g03-052-03.png', 'data/lines/lines/g03/g03-052/g03-052-04.png', 'data/lines/lines/g03/g03-052/g03-052-05.png', 'data/lines/lines/g03/g03-052/g03-052-06.png', 'data/lines/lines/g03/g03-052/g03-052-07.png', 'data/lines/lines/g03/g03-052/g03-052-08.png', 'data/lines/lines/g03/g03-052/g03-052-09.png']\n"
     ]
    }
   ],
   "source": [
    "print image_files_list[:10]"
   ]
  },
  {
   "cell_type": "code",
   "execution_count": 8,
   "metadata": {
    "collapsed": true
   },
   "outputs": [],
   "source": [
    "pickle.dump(data_dict,open(\"data_dict\",\"wb\"))"
   ]
  },
  {
   "cell_type": "code",
   "execution_count": 9,
   "metadata": {
    "collapsed": true
   },
   "outputs": [],
   "source": [
    "pickle.dump(vocab,open(\"vocab\",\"wb\"))"
   ]
  },
  {
   "cell_type": "code",
   "execution_count": 10,
   "metadata": {
    "collapsed": true
   },
   "outputs": [],
   "source": [
    "pickle.dump(image_files_list,open(\"image_files_list\",\"wb\"))"
   ]
  },
  {
   "cell_type": "code",
   "execution_count": null,
   "metadata": {
    "collapsed": true
   },
   "outputs": [],
   "source": []
  }
 ],
 "metadata": {
  "kernelspec": {
   "display_name": "Python 2",
   "language": "python",
   "name": "python2"
  },
  "language_info": {
   "codemirror_mode": {
    "name": "ipython",
    "version": 2
   },
   "file_extension": ".py",
   "mimetype": "text/x-python",
   "name": "python",
   "nbconvert_exporter": "python",
   "pygments_lexer": "ipython2",
   "version": "2.7.12"
  }
 },
 "nbformat": 4,
 "nbformat_minor": 2
}
