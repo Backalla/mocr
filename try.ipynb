{
 "cells": [
  {
   "cell_type": "code",
   "execution_count": null,
   "metadata": {
    "collapsed": true
   },
   "outputs": [],
   "source": [
    "%matplotlib inline\n",
    "\n",
    "import matplotlib\n",
    "import numpy as np\n",
    "import matplotlib.pyplot as plt\n",
    "import pickle\n",
    "import cv2\n",
    "import math"
   ]
  },
  {
   "cell_type": "code",
   "execution_count": null,
   "metadata": {
    "collapsed": true
   },
   "outputs": [],
   "source": [
    "data_dict = pickle.load(open(\"pickles/data_dict\",'r'))"
   ]
  },
  {
   "cell_type": "code",
   "execution_count": null,
   "metadata": {},
   "outputs": [],
   "source": [
    "print len(data_dict.keys())"
   ]
  },
  {
   "cell_type": "code",
   "execution_count": null,
   "metadata": {},
   "outputs": [],
   "source": [
    "image_matrix3,labels3 = pickle.load(open(\"dataset_5000_10000\",'rb'))\n"
   ]
  },
  {
   "cell_type": "code",
   "execution_count": null,
   "metadata": {},
   "outputs": [],
   "source": [
    "print len(set(labels))"
   ]
  },
  {
   "cell_type": "code",
   "execution_count": null,
   "metadata": {},
   "outputs": [],
   "source": [
    "dh,dw = 287,2270\n",
    "images_matrix = []\n",
    "images_labels = []\n",
    "for image_path in data_dict.keys()[10000:]:\n",
    "    image_obj=cv2.imread(image_path)\n",
    "    h,w = image_obj.shape[0],image_obj.shape[1]\n",
    "    \n",
    "    top = int(math.floor((dh-h)/2.0))\n",
    "    bottom = int(math.ceil((dh-h)/2.0))\n",
    "#     print \"{}=={}\".format(dh,h+top+bottom)\n",
    "    left = int(math.floor((dw-w)/2.0))\n",
    "    right = int(math.ceil((dw-w)/2.0))\n",
    "#     print \"{}=={}\".format(dw,w+left+right)\n",
    "    padded_image = cv2.copyMakeBorder(image_obj,top,bottom,left,right,cv2.BORDER_CONSTANT,value=[0,0])\n",
    "#     print padded_image.shape\n",
    "    new_img = padded_image.sum(axis=2)/765\n",
    "    new_img_int8 = new_img.astype(np.int8)\n",
    "#     print new_img.dtype,new_img_int8.dtype\n",
    "    images_matrix.append(new_img_int8)\n",
    "    images_labels.append(data_dict[image_path])\n"
   ]
  },
  {
   "cell_type": "code",
   "execution_count": null,
   "metadata": {},
   "outputs": [],
   "source": [
    "# print np.array(images_matrix).dtype"
   ]
  },
  {
   "cell_type": "code",
   "execution_count": null,
   "metadata": {},
   "outputs": [],
   "source": [
    "pickle.dump((images_matrix,images_labels),open(\"dataset_10000_13353\",'wb'))"
   ]
  },
  {
   "cell_type": "code",
   "execution_count": null,
   "metadata": {},
   "outputs": [],
   "source": [
    "for i in range(100):\n",
    "    print new_img_bool[140][i+500],new_img[140][i+500]"
   ]
  },
  {
   "cell_type": "code",
   "execution_count": null,
   "metadata": {
    "collapsed": true
   },
   "outputs": [],
   "source": []
  }
 ],
 "metadata": {
  "kernelspec": {
   "display_name": "Python 2",
   "language": "python",
   "name": "python2"
  },
  "language_info": {
   "codemirror_mode": {
    "name": "ipython",
    "version": 2
   },
   "file_extension": ".py",
   "mimetype": "text/x-python",
   "name": "python",
   "nbconvert_exporter": "python",
   "pygments_lexer": "ipython2",
   "version": "2.7.12"
  }
 },
 "nbformat": 4,
 "nbformat_minor": 2
}
