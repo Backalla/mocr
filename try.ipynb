{
 "cells": [
  {
   "cell_type": "code",
   "execution_count": 1,
   "metadata": {
    "collapsed": true
   },
   "outputs": [],
   "source": [
    "%matplotlib inline\n",
    "\n",
    "import matplotlib\n",
    "import numpy as np\n",
    "import matplotlib.pyplot as plt\n",
    "import pickle\n",
    "import cv2\n",
    "import math"
   ]
  },
  {
   "cell_type": "code",
   "execution_count": 2,
   "metadata": {
    "collapsed": true
   },
   "outputs": [],
   "source": [
    "data_dict = pickle.load(open(\"pickles/data_dict\",'r'))"
   ]
  },
  {
   "cell_type": "code",
   "execution_count": 3,
   "metadata": {},
   "outputs": [
    {
     "name": "stdout",
     "output_type": "stream",
     "text": [
      "13353\n"
     ]
    }
   ],
   "source": [
    "print len(data_dict.keys())"
   ]
  },
  {
   "cell_type": "code",
   "execution_count": 5,
   "metadata": {},
   "outputs": [
    {
     "name": "stdout",
     "output_type": "stream",
     "text": [
      "('data/lines/processed_lines/a04/a04-099/a04-099-04.png', 'believes : \" It is very questionable whether ')\n",
      "('data/lines/processed_lines/c04/c04-008/c04-008-00.png', 'In his first Hollywood picture , \" Let \\'s Make Love , \" he ')\n",
      "('data/lines/processed_lines/g06/g06-011e/g06-011e-07.png', 'the soldier - a favourable change in my eye , particularly ')\n",
      "('data/lines/processed_lines/d01/d01-118/d01-118-03.png', 'a roll or a codex . Rolls were prepared for ')\n",
      "('data/lines/processed_lines/m06/m06-048/m06-048-02.png', \"fleshless jaw said , ' The grub of the tigerfly thinks \")\n",
      "('data/lines/processed_lines/l01/l01-129/l01-129-03.png', 'ever heard . \" I \\'m going to get myself ')\n",
      "('data/lines/processed_lines/a06/a06-025/a06-025-06.png', 'and \" unwarranted \" interference . \" But it ')\n",
      "('data/lines/processed_lines/h07/h07-084/h07-084-08.png', 'half of whom are known to have been on local ')\n",
      "('data/lines/processed_lines/a02/a02-090/a02-090-05.png', 'would make the Mau Mau in Kenya \" seem like a ')\n",
      "('data/lines/processed_lines/g06/g06-042o/g06-042o-00.png', 'Nor is this to be wondered at , for even ')\n"
     ]
    }
   ],
   "source": [
    "for a in [(key,data_dict[key]) for key in data_dict.keys()[:10]]:\n",
    "    print a"
   ]
  },
  {
   "cell_type": "code",
   "execution_count": 9,
   "metadata": {
    "collapsed": true
   },
   "outputs": [],
   "source": [
    "images_list = pickle.load(open(\"pickles/vocab\",'r'))"
   ]
  },
  {
   "cell_type": "code",
   "execution_count": 12,
   "metadata": {},
   "outputs": [
    {
     "name": "stdout",
     "output_type": "stream",
     "text": [
      "set(['!', ' ', '#', '\"', \"'\", '&', ')', '(', '+', '*', '-', ',', '/', '.', '1', '0', '3', '2', '5', '4', '7', '6', '9', '8', ';', ':', '?', 'A', 'C', 'B', 'E', 'D', 'G', 'F', 'I', 'H', 'K', 'J', 'M', 'L', 'O', 'N', 'Q', 'P', 'S', 'R', 'U', 'T', 'W', 'V', 'Y', 'X', 'Z', 'a', 'c', 'b', 'e', 'd', 'g', 'f', 'i', 'h', 'k', 'j', 'm', 'l', 'o', 'n', 'q', 'p', 's', 'r', 'u', 't', 'w', 'v', 'y', 'x', 'z'])\n"
     ]
    }
   ],
   "source": [
    "print images_list"
   ]
  },
  {
   "cell_type": "code",
   "execution_count": null,
   "metadata": {
    "collapsed": true
   },
   "outputs": [],
   "source": [
    "image_matrix3,labels3 = pickle.load(open(\"dataset_5000_10000\",'rb'))\n"
   ]
  },
  {
   "cell_type": "code",
   "execution_count": null,
   "metadata": {
    "collapsed": true
   },
   "outputs": [],
   "source": [
    "print len(set(labels))"
   ]
  },
  {
   "cell_type": "code",
   "execution_count": null,
   "metadata": {
    "collapsed": true
   },
   "outputs": [],
   "source": [
    "dh,dw = 287,2270\n",
    "images_matrix = []\n",
    "images_labels = []\n",
    "for image_path in data_dict.keys()[10000:]:\n",
    "    image_obj=cv2.imread(image_path)\n",
    "    h,w = image_obj.shape[0],image_obj.shape[1]\n",
    "    \n",
    "    top = int(math.floor((dh-h)/2.0))\n",
    "    bottom = int(math.ceil((dh-h)/2.0))\n",
    "#     print \"{}=={}\".format(dh,h+top+bottom)\n",
    "    left = int(math.floor((dw-w)/2.0))\n",
    "    right = int(math.ceil((dw-w)/2.0))\n",
    "#     print \"{}=={}\".format(dw,w+left+right)\n",
    "    padded_image = cv2.copyMakeBorder(image_obj,top,bottom,left,right,cv2.BORDER_CONSTANT,value=[0,0])\n",
    "#     print padded_image.shape\n",
    "    new_img = padded_image.sum(axis=2)/765\n",
    "    new_img_int8 = new_img.astype(np.int8)\n",
    "#     print new_img.dtype,new_img_int8.dtype\n",
    "    images_matrix.append(new_img_int8)\n",
    "    images_labels.append(data_dict[image_path])\n"
   ]
  },
  {
   "cell_type": "code",
   "execution_count": null,
   "metadata": {
    "collapsed": true
   },
   "outputs": [],
   "source": [
    "# print np.array(images_matrix).dtype"
   ]
  },
  {
   "cell_type": "code",
   "execution_count": null,
   "metadata": {
    "collapsed": true
   },
   "outputs": [],
   "source": [
    "pickle.dump((images_matrix,images_labels),open(\"dataset_10000_13353\",'wb'))"
   ]
  },
  {
   "cell_type": "code",
   "execution_count": null,
   "metadata": {
    "collapsed": true
   },
   "outputs": [],
   "source": [
    "for i in range(100):\n",
    "    print new_img_bool[140][i+500],new_img[140][i+500]"
   ]
  },
  {
   "cell_type": "code",
   "execution_count": null,
   "metadata": {
    "collapsed": true
   },
   "outputs": [],
   "source": []
  }
 ],
 "metadata": {
  "kernelspec": {
   "display_name": "Python 2",
   "language": "python",
   "name": "python2"
  },
  "language_info": {
   "codemirror_mode": {
    "name": "ipython",
    "version": 2
   },
   "file_extension": ".py",
   "mimetype": "text/x-python",
   "name": "python",
   "nbconvert_exporter": "python",
   "pygments_lexer": "ipython2",
   "version": "2.7.12"
  }
 },
 "nbformat": 4,
 "nbformat_minor": 2
}
